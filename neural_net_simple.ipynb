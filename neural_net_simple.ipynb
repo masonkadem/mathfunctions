{
 "cells": [
  {
   "cell_type": "code",
   "execution_count": 65,
   "metadata": {},
   "outputs": [],
   "source": [
    "# Neural network; OOP and functional approach\n",
    "\n",
    "import numpy as np\n",
    "import matplotlib.pyplot as plt\n",
    "import sympy as sym\n",
    "from sympy import *\n",
    "import math"
   ]
  },
  {
   "cell_type": "code",
   "execution_count": 2,
   "metadata": {},
   "outputs": [],
   "source": [
    "inputs = np.array([[0, 1, 0],\n",
    "                   [0, 1, 1],\n",
    "                   [0, 0, 0],\n",
    "                   [1, 0, 0],\n",
    "                   [1, 1, 1],\n",
    "                   [1, 0, 1]])\n",
    "\n",
    "outputs = np.array([[0], [0], [0], [1], [1], [1]])"
   ]
  },
  {
   "cell_type": "code",
   "execution_count": 17,
   "metadata": {},
   "outputs": [],
   "source": [
    "class NeuralNetwork:\n",
    "\n",
    "    def __init__(self, inputs, outputs):\n",
    "        self.inputs  = inputs\n",
    "        self.outputs = outputs\n",
    "        self.weights = np.array([[.50], [.50], [.50]])\n",
    "        self.error_history = []\n",
    "        self.epoch_list = []"
   ]
  },
  {
   "cell_type": "code",
   "execution_count": 20,
   "metadata": {},
   "outputs": [],
   "source": [
    "# define function, sigmoid, logistic\n",
    "def sigmoid(self, x, deriv=False):\n",
    "    if deriv == True:\n",
    "        return x * (1 - x)\n",
    "    return 1 / (1 + np.exp(-x))\n",
    "\n",
    "#sym.diff(1/1 + sym.exp(-x))"
   ]
  },
  {
   "cell_type": "code",
   "execution_count": 22,
   "metadata": {},
   "outputs": [],
   "source": [
    "# outputs hidden layer guess, starts with sum of feature * weight. input * weight matrix * sigmoid function = probabilty btw 0-1\n",
    "# X (input matrix) * w (Weights) = sum(xw) = sum(xw)\n",
    "def feed_forward(self):\n",
    "    self.hidden = self.sigmoid(np.dot(self.inputs, self.weights))"
   ]
  },
  {
   "cell_type": "code",
   "execution_count": 49,
   "metadata": {},
   "outputs": [
    {
     "data": {
      "text/plain": [
       "array([0.62245933, 0.62245933, 0.73105858, 0.81757448])"
      ]
     },
     "execution_count": 49,
     "metadata": {},
     "output_type": "execute_result"
    }
   ],
   "source": [
    "#functional approach\n",
    "X = np.array([[0,0,1], [0,1,0], [1,0,1]])\n",
    "ouputs = [0,0,1,1]\n",
    "\n",
    "def neural_net (inputs, outputs):\n",
    "    inputs = inputs\n",
    "    outputs = outputs\n",
    "\n",
    "def sigmoidftn(x):\n",
    "    return 1 / (1 + np.exp(-x))\n",
    "def sigmoidder(x):\n",
    "    x = sym.Symbol('x')\n",
    "    return sym.diff(1 / (1 + sym.exp(-x)))\n",
    "\n",
    "X = np.array([[0,0,1], [0,1,0], [1,0,1], [1,1,1]]) # input data\n",
    "w = [0.5, 0.5, 0.5] # arbitrary weights set\n",
    "\n",
    "d = np.dot(X, w) # dot product of input and weights\n",
    "\n",
    "#one training iteration, prediction of hidden layer\n",
    "hidden = sigmoidftn(d)\n",
    "\n",
    "#calculate error of hidden layer's prediction\n",
    "error = hidden - outputs\n",
    "\n",
    "error\n",
    "hidden"
   ]
  },
  {
   "cell_type": "code",
   "execution_count": 69,
   "metadata": {},
   "outputs": [
    {
     "data": {
      "text/plain": [
       "array([0.23500371, 0.23500371, 0.19661193, 0.14914645])"
      ]
     },
     "execution_count": 69,
     "metadata": {},
     "output_type": "execute_result"
    }
   ],
   "source": [
    "x = sym.Symbol('x')\n",
    "der_of_sigmoid = sym.diff(1 / (1 + sym.exp(-x))) # derivative of sigmoid function\n",
    "\n",
    "sigder = lambdify(x, der_of_sigmoid)\n",
    "#error * dersigmoids\n",
    "sigder(d)"
   ]
  },
  {
   "cell_type": "code",
   "execution_count": 24,
   "metadata": {},
   "outputs": [
    {
     "data": {
      "text/plain": [
       "array([[0. , 0. , 0.5],\n",
       "       [0. , 0.5, 0. ],\n",
       "       [0.5, 0. , 0.5]])"
      ]
     },
     "execution_count": 24,
     "metadata": {},
     "output_type": "execute_result"
    }
   ],
   "source": [
    "# go through layers of neural net, indicate weight contributions to output/error, change weight based on gradient of hidden layers output.\n",
    "def backpropagation(self):\n",
    "    self.error  = self.outputs - self.hidden\n",
    "    delta = self.error * self.sigmoid(self.hidden, deriv=True)\n",
    "    self.weights += np.dot(self.inputs.T, delta)"
   ]
  },
  {
   "cell_type": "code",
   "execution_count": 29,
   "metadata": {},
   "outputs": [
    {
     "ename": "SyntaxError",
     "evalue": "invalid syntax (<ipython-input-29-bb2c6e590aaf>, line 1)",
     "output_type": "error",
     "traceback": [
      "\u001b[0;36m  File \u001b[0;32m\"<ipython-input-29-bb2c6e590aaf>\"\u001b[0;36m, line \u001b[0;32m1\u001b[0m\n\u001b[0;31m    def sigmoidftn(x)\u001b[0m\n\u001b[0m                     ^\u001b[0m\n\u001b[0;31mSyntaxError\u001b[0m\u001b[0;31m:\u001b[0m invalid syntax\n"
     ]
    }
   ],
   "source": []
  },
  {
   "cell_type": "code",
   "execution_count": null,
   "metadata": {},
   "outputs": [],
   "source": []
  },
  {
   "cell_type": "code",
   "execution_count": null,
   "metadata": {},
   "outputs": [],
   "source": []
  }
 ],
 "metadata": {
  "kernelspec": {
   "display_name": "Python 3",
   "language": "python",
   "name": "python3"
  },
  "language_info": {
   "codemirror_mode": {
    "name": "ipython",
    "version": 3
   },
   "file_extension": ".py",
   "mimetype": "text/x-python",
   "name": "python",
   "nbconvert_exporter": "python",
   "pygments_lexer": "ipython3",
   "version": "3.8.5"
  }
 },
 "nbformat": 4,
 "nbformat_minor": 4
}
