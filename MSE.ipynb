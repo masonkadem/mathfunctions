{
 "cells": [
  {
   "cell_type": "code",
   "execution_count": 2,
   "metadata": {},
   "outputs": [],
   "source": [
    "# math behind MSE with different pythonic approaches.\n",
    "import numpy as np\n"
   ]
  },
  {
   "cell_type": "code",
   "execution_count": 4,
   "metadata": {},
   "outputs": [
    {
     "name": "stdout",
     "output_type": "stream",
     "text": [
      "0.7777777777777778\n"
     ]
    }
   ],
   "source": [
    "y     = [1,3,4,5,6,7,8,9,9]\n",
    "y_hat = [2,3,4,5,6,6,9,9,11]\n",
    "summation = 0\n",
    "n = len(y)\n",
    "for i in range (0,n):\n",
    "    difference = y[i] - y_hat[i] #finding the difference between observed and predicted value\n",
    "    squared_difference = difference**2 #taking square of the differene \n",
    "    summation = summation + squared_difference #taking a sum of all the differences\n",
    "MSE = summation/n\n",
    "print(MSE)"
   ]
  },
  {
   "cell_type": "code",
   "execution_count": 5,
   "metadata": {},
   "outputs": [
    {
     "name": "stdout",
     "output_type": "stream",
     "text": [
      "0.7777777777777778\n"
     ]
    }
   ],
   "source": [
    "y     = [1,3,4,5,6,7,8,9,9]\n",
    "y_hat = [2,3,4,5,6,6,9,9,11]\n",
    "summation = 0\n",
    "n = len(y)\n",
    "for i in range (0,n):\n",
    "    difference = y[i] - y_hat[i] #finding the difference between observed and predicted value\n",
    "    squared_difference = difference**2 #taking square of the differene \n",
    "    summation += squared_difference #taking a sum of all the differences\n",
    "MSE = summation/n\n",
    "print(MSE)"
   ]
  },
  {
   "cell_type": "code",
   "execution_count": 6,
   "metadata": {},
   "outputs": [],
   "source": [
    "y     = [1,3,4,5,6,7,8,9,9]\n",
    "y_hat = [2,3,4,5,6,6,9,9,11]\n",
    "n = len(y)\n",
    "summation = 0\n",
    "summation3 = sum(range(0,n))"
   ]
  },
  {
   "cell_type": "code",
   "execution_count": 11,
   "metadata": {},
   "outputs": [
    {
     "name": "stdout",
     "output_type": "stream",
     "text": [
      "0.7777777777777778\n"
     ]
    }
   ],
   "source": [
    "y     = np.array([1,3,4,5,6,7,8,9,9])\n",
    "y_hat = np.array([2,3,4,5,6,6,9,9,11])\n",
    "mse = np.mean((y - y_hat)**2)\n",
    "print(mse)"
   ]
  },
  {
   "cell_type": "code",
   "execution_count": 12,
   "metadata": {},
   "outputs": [
    {
     "ename": "IndentationError",
     "evalue": "expected an indented block (<ipython-input-12-f63d94dc9e99>, line 2)",
     "output_type": "error",
     "traceback": [
      "\u001b[0;36m  File \u001b[0;32m\"<ipython-input-12-f63d94dc9e99>\"\u001b[0;36m, line \u001b[0;32m2\u001b[0m\n\u001b[0;31m    mse = np.mean((y - y_hat)**2)\u001b[0m\n\u001b[0m    ^\u001b[0m\n\u001b[0;31mIndentationError\u001b[0m\u001b[0;31m:\u001b[0m expected an indented block\n"
     ]
    }
   ],
   "source": [
    "def MSE(y, y_hat):\n",
    "    mse = np.mean((y - y_hat)**2)\n",
    "return MSE"
   ]
  }
 ],
 "metadata": {
  "kernelspec": {
   "display_name": "Python 3",
   "language": "python",
   "name": "python3"
  },
  "language_info": {
   "codemirror_mode": {
    "name": "ipython",
    "version": 3
   },
   "file_extension": ".py",
   "mimetype": "text/x-python",
   "name": "python",
   "nbconvert_exporter": "python",
   "pygments_lexer": "ipython3",
   "version": "3.8.5"
  }
 },
 "nbformat": 4,
 "nbformat_minor": 4
}
